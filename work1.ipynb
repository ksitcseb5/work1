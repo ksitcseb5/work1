{
 "cells": [
  {
   "cell_type": "code",
   "execution_count": 1,
   "metadata": {},
   "outputs": [],
   "source": [
    "import numpy as np\n",
    "import pandas as pd\n",
    "from netaddr import *\n",
    "import pprint\n",
    "import time"
   ]
  },
  {
   "cell_type": "code",
   "execution_count": 2,
   "metadata": {},
   "outputs": [],
   "source": [
    "import warnings\n",
    "warnings.filterwarnings('ignore')"
   ]
  },
  {
   "cell_type": "code",
   "execution_count": 3,
   "metadata": {},
   "outputs": [],
   "source": [
    "# data = ':C:\\Users\\udayk\\Desktop\\mmj\\Projects\\mmj\\ddos 1\\test_mosaic.csv'\n",
    "data=\"C:\\\\Users\\\\udayk\\\\Desktop\\\\Projects\\\\ANN-for-DDoS-detection-master\\\\CSV Files\\\\Combined (2).csv\"\n",
    "# data=input(\"Enter the File Source\")\n",
    "df = pd.read_csv(data)"
   ]
  },
  {
   "cell_type": "code",
   "execution_count": 4,
   "metadata": {},
   "outputs": [
    {
     "name": "stdout",
     "output_type": "stream",
     "text": [
      "<class 'pandas.core.frame.DataFrame'>\n",
      "RangeIndex: 552619 entries, 0 to 552618\n",
      "Data columns (total 9 columns):\n",
      "Highest Layer      552619 non-null object\n",
      "Transport Layer    552619 non-null object\n",
      "Source IP          552619 non-null int64\n",
      "Dest IP            552619 non-null object\n",
      "Source Port        552619 non-null int64\n",
      "Dest Port          552619 non-null int64\n",
      "Packet Length      552619 non-null int64\n",
      "Packets/Time       552619 non-null float64\n",
      "target             552619 non-null int64\n",
      "dtypes: float64(1), int64(5), object(3)\n",
      "memory usage: 37.9+ MB\n"
     ]
    }
   ],
   "source": [
    "# view summary of dataset\n",
    "df.info()"
   ]
  },
  {
   "cell_type": "code",
   "execution_count": 5,
   "metadata": {},
   "outputs": [],
   "source": [
    "df=df.drop(['Highest Layer'],axis=1)"
   ]
  },
  {
   "cell_type": "code",
   "execution_count": 6,
   "metadata": {},
   "outputs": [
    {
     "name": "stdout",
     "output_type": "stream",
     "text": [
      "<class 'pandas.core.frame.DataFrame'>\n",
      "RangeIndex: 552619 entries, 0 to 552618\n",
      "Data columns (total 8 columns):\n",
      "Transport Layer    552619 non-null object\n",
      "Source IP          552619 non-null int64\n",
      "Dest IP            552619 non-null object\n",
      "Source Port        552619 non-null int64\n",
      "Dest Port          552619 non-null int64\n",
      "Packet Length      552619 non-null int64\n",
      "Packets/Time       552619 non-null float64\n",
      "target             552619 non-null int64\n",
      "dtypes: float64(1), int64(5), object(2)\n",
      "memory usage: 33.7+ MB\n"
     ]
    }
   ],
   "source": [
    "df.info()"
   ]
  },
  {
   "cell_type": "code",
   "execution_count": 7,
   "metadata": {},
   "outputs": [],
   "source": [
    "df.rename(columns = {'Transport Layer':'transport_layer'}, inplace = True) \n",
    "df.rename(columns = {'Source IP':'source_ip'}, inplace = True)\n",
    "df.rename(columns = {'Dest IP':'dest_ip'}, inplace = True)\n",
    "df.rename(columns = {'Time':'time'}, inplace = True)"
   ]
  },
  {
   "cell_type": "code",
   "execution_count": 8,
   "metadata": {},
   "outputs": [
    {
     "data": {
      "text/plain": [
       "TCP    450416\n",
       "UDP    102203\n",
       "Name: transport_layer, dtype: int64"
      ]
     },
     "execution_count": 8,
     "metadata": {},
     "output_type": "execute_result"
    }
   ],
   "source": [
    "df['transport_layer'].value_counts()"
   ]
  },
  {
   "cell_type": "code",
   "execution_count": 9,
   "metadata": {},
   "outputs": [],
   "source": [
    "def protocol_conv(proto):\n",
    "    if proto==\"TCP\":\n",
    "        return 1\n",
    "    elif proto==\"UDP\":\n",
    "        return 2\n",
    "    elif proto==\"None\":\n",
    "        return 3"
   ]
  },
  {
   "cell_type": "code",
   "execution_count": 10,
   "metadata": {},
   "outputs": [],
   "source": [
    "df['protocol']=df['transport_layer'].apply(protocol_conv)"
   ]
  },
  {
   "cell_type": "code",
   "execution_count": 11,
   "metadata": {},
   "outputs": [],
   "source": [
    "def ip_conv(ip):\n",
    "    ip = IPAddress(ip)\n",
    "    a=int(ip)\n",
    "    return a"
   ]
  },
  {
   "cell_type": "code",
   "execution_count": 12,
   "metadata": {},
   "outputs": [],
   "source": [
    "df['src_ip']=df['source_ip'].apply(ip_conv)\n",
    "df['desti_ip']=df['dest_ip'].apply(ip_conv)"
   ]
  },
  {
   "cell_type": "code",
   "execution_count": 14,
   "metadata": {},
   "outputs": [],
   "source": [
    "# df1 = pd.to_datetime(df['time'])\n",
    "# df['time_stamp']=df1.astype(np.int64) // 10**9"
   ]
  },
  {
   "cell_type": "code",
   "execution_count": 18,
   "metadata": {},
   "outputs": [
    {
     "name": "stdout",
     "output_type": "stream",
     "text": [
      "<class 'pandas.core.frame.DataFrame'>\n",
      "RangeIndex: 552619 entries, 0 to 552618\n",
      "Data columns (total 8 columns):\n",
      "Source Port      552619 non-null int64\n",
      "Dest Port        552619 non-null int64\n",
      "Packet Length    552619 non-null int64\n",
      "Packets/Time     552619 non-null float64\n",
      "target           552619 non-null int64\n",
      "protocol         552619 non-null int64\n",
      "src_ip           552619 non-null int64\n",
      "desti_ip         552619 non-null object\n",
      "dtypes: float64(1), int64(6), object(1)\n",
      "memory usage: 33.7+ MB\n"
     ]
    }
   ],
   "source": [
    "df.info()"
   ]
  },
  {
   "cell_type": "code",
   "execution_count": 19,
   "metadata": {},
   "outputs": [],
   "source": [
    "# df=df.drop(['source_ip'],axis=1)\n",
    "# df=df.drop(['dest_ip'],axis=1)\n",
    "# df=df.drop(['transport_layer'],axis=1)"
   ]
  },
  {
   "cell_type": "code",
   "execution_count": 20,
   "metadata": {},
   "outputs": [],
   "source": [
    "df=df.round({\"Packets/Time\":3}) "
   ]
  },
  {
   "cell_type": "code",
   "execution_count": 14,
   "metadata": {},
   "outputs": [],
   "source": [
    "# data[\"Salary\"]= data[\"Salary\"].astype(int)"
   ]
  },
  {
   "cell_type": "code",
   "execution_count": 21,
   "metadata": {},
   "outputs": [
    {
     "name": "stdout",
     "output_type": "stream",
     "text": [
      "<class 'pandas.core.frame.DataFrame'>\n",
      "RangeIndex: 552619 entries, 0 to 552618\n",
      "Data columns (total 8 columns):\n",
      "Source Port      552619 non-null int64\n",
      "Dest Port        552619 non-null int64\n",
      "Packet Length    552619 non-null int64\n",
      "Packets/Time     552619 non-null float64\n",
      "target           552619 non-null int64\n",
      "protocol         552619 non-null int64\n",
      "src_ip           552619 non-null int64\n",
      "desti_ip         552619 non-null object\n",
      "dtypes: float64(1), int64(6), object(1)\n",
      "memory usage: 33.7+ MB\n"
     ]
    }
   ],
   "source": [
    "df.info()"
   ]
  },
  {
   "cell_type": "code",
   "execution_count": 22,
   "metadata": {},
   "outputs": [
    {
     "data": {
      "text/plain": [
       "0    451888\n",
       "1    100731\n",
       "Name: target, dtype: int64"
      ]
     },
     "execution_count": 22,
     "metadata": {},
     "output_type": "execute_result"
    }
   ],
   "source": [
    "# df[df['target']==1].value_counts()\n",
    "df['target'].value_counts()"
   ]
  },
  {
   "cell_type": "code",
   "execution_count": 23,
   "metadata": {},
   "outputs": [],
   "source": [
    "X = df.drop(['target'], axis=1)\n",
    "y = df['target']"
   ]
  },
  {
   "cell_type": "code",
   "execution_count": 24,
   "metadata": {},
   "outputs": [],
   "source": [
    "# split X and y into training and testing sets\n",
    "\n",
    "from sklearn.model_selection import train_test_split\n",
    "\n",
    "X_train, X_test, y_train, y_test = train_test_split(X, y, test_size = 0.2, random_state = 0)"
   ]
  },
  {
   "cell_type": "code",
   "execution_count": null,
   "metadata": {},
   "outputs": [],
   "source": [
    "# import SVC classifier\n",
    "from sklearn.svm import SVC\n",
    "\n",
    "\n",
    "# import metrics to compute accuracy\n",
    "from sklearn.metrics import accuracy_score\n",
    "\n",
    "\n",
    "# instantiate classifier with default hyperparameters\n",
    "svc=SVC() \n",
    "\n",
    "\n",
    "# fit classifier to training set\n",
    "svc.fit(X_train,y_train)\n",
    "\n",
    "\n",
    "# make predictions on test set\n",
    "y_pred=svc.predict(X_test)\n",
    "\n",
    "\n",
    "# compute and print accuracy score\n",
    "print('Model accuracy score with default hyperparameters: {0:0.4f}'. format(accuracy_score(y_test, y_pred)))"
   ]
  }
 ],
 "metadata": {
  "kernelspec": {
   "display_name": "Python 3",
   "language": "python",
   "name": "python3"
  },
  "language_info": {
   "codemirror_mode": {
    "name": "ipython",
    "version": 3
   },
   "file_extension": ".py",
   "mimetype": "text/x-python",
   "name": "python",
   "nbconvert_exporter": "python",
   "pygments_lexer": "ipython3",
   "version": "3.7.4"
  }
 },
 "nbformat": 4,
 "nbformat_minor": 2
}
